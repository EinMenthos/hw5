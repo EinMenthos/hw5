{
 "cells": [
  {
   "cell_type": "code",
   "execution_count": null,
   "metadata": {
    "execution": {
     "iopub.execute_input": "2023-12-07T19:22:57.402067Z",
     "iopub.status.busy": "2023-12-07T19:22:57.401598Z",
     "iopub.status.idle": "2023-12-07T19:22:57.823794Z",
     "shell.execute_reply": "2023-12-07T19:22:57.823073Z"
    },
    "id": "9PwL-dEOt0Bo"
   },
   "outputs": [],
   "source": [
    "# Ozzie Cano CWID: 887551489\n",
    "import numpy as np\n",
    "import pandas as pd\n",
    "import os\n",
    "\n",
    "os.environ['KERAS_BACKEND'] = 'tensorflow'"
   ]
  },
  {
   "cell_type": "code",
   "execution_count": 2,
   "metadata": {
    "execution": {
     "iopub.execute_input": "2023-12-07T19:22:57.827639Z",
     "iopub.status.busy": "2023-12-07T19:22:57.827495Z",
     "iopub.status.idle": "2023-12-07T19:22:59.331505Z",
     "shell.execute_reply": "2023-12-07T19:22:59.331161Z"
    },
    "id": "4HwvuxKouJ6s"
   },
   "outputs": [
    {
     "ename": "ModuleNotFoundError",
     "evalue": "No module named 'keras'",
     "output_type": "error",
     "traceback": [
      "\u001b[1;31m---------------------------------------------------------------------------\u001b[0m",
      "\u001b[1;31mModuleNotFoundError\u001b[0m                       Traceback (most recent call last)",
      "Cell \u001b[1;32mIn[2], line 2\u001b[0m\n\u001b[0;32m      1\u001b[0m \u001b[38;5;66;03m# The backend must be set before importing keras, not after\u001b[39;00m\n\u001b[1;32m----> 2\u001b[0m \u001b[38;5;28;01mimport\u001b[39;00m \u001b[38;5;21;01mkeras\u001b[39;00m \u001b[38;5;28;01mas\u001b[39;00m \u001b[38;5;21;01mkeras\u001b[39;00m\n\u001b[0;32m      3\u001b[0m \u001b[38;5;28;01mfrom\u001b[39;00m \u001b[38;5;21;01mkeras\u001b[39;00m \u001b[38;5;28;01mimport\u001b[39;00m layers\n\u001b[0;32m      4\u001b[0m \u001b[38;5;28;01mimport\u001b[39;00m \u001b[38;5;21;01mkeras\u001b[39;00m\u001b[38;5;21;01m.\u001b[39;00m\u001b[38;5;21;01mdatasets\u001b[39;00m\u001b[38;5;21;01m.\u001b[39;00m\u001b[38;5;21;01mfashion_mnist\u001b[39;00m\n",
      "\u001b[1;31mModuleNotFoundError\u001b[0m: No module named 'keras'"
     ]
    }
   ],
   "source": [
    "# The backend must be set before importing keras, not after\n",
    "import keras as keras\n",
    "from keras import layers\n",
    "import keras.datasets.fashion_mnist"
   ]
  },
  {
   "cell_type": "code",
   "execution_count": 3,
   "metadata": {
    "id": "r5EZm1ZrPVY8"
   },
   "outputs": [],
   "source": [
    "# Model / data parameters\n",
    "num_classes = 10\n",
    "input_shape = (28, 28, 1)"
   ]
  },
  {
   "cell_type": "code",
   "execution_count": null,
   "metadata": {
    "execution": {
     "iopub.execute_input": "2023-12-07T19:22:59.333188Z",
     "iopub.status.busy": "2023-12-07T19:22:59.333035Z",
     "iopub.status.idle": "2023-12-07T19:22:59.609797Z",
     "shell.execute_reply": "2023-12-07T19:22:59.609484Z"
    },
    "id": "1kuiNuZbudu6"
   },
   "outputs": [],
   "source": [
    "# # Load the data and split it between train and test sets\n",
    "(Xtrain, ytrain), (Xtest, ytest) = keras.datasets.fashion_mnist.load_data()\n",
    "\n",
    "# Scale images to the [0, 1] range\n",
    "Xtrain = Xtrain.astype(\"float32\") / 255\n",
    "Xtest = Xtest.astype(\"float32\") / 255\n",
    "\n",
    "# Make sure images have shape (28, 28, 1)\n",
    "Xtrain = np.expand_dims(Xtrain, -1)\n",
    "Xtest = np.expand_dims(Xtest, -1)\n",
    "\n",
    "print(\"x_train shape:\", Xtrain.shape)\n",
    "print(Xtrain.shape[0], \"train samples\")\n",
    "print(Xtest.shape[0], \"test samples\")\n",
    "\n",
    "#make sure all have same type\n",
    "ytrain = ytrain.astype('float32')\n",
    "ytest = ytest.astype('float32')"
   ]
  },
  {
   "cell_type": "code",
   "execution_count": null,
   "metadata": {
    "execution": {
     "iopub.execute_input": "2023-12-07T19:22:59.611589Z",
     "iopub.status.busy": "2023-12-07T19:22:59.611496Z",
     "iopub.status.idle": "2023-12-07T19:22:59.663416Z",
     "shell.execute_reply": "2023-12-07T19:22:59.663103Z"
    },
    "id": "l9jv8qq3xycr"
   },
   "outputs": [],
   "source": [
    "# Define the fully connected NN model structure using keras.Sequential\n",
    "model = keras.Sequential([\n",
    "    layers.Conv2D(32, (3, 3), activation='linear', input_shape=input_shape),\n",
    "    layers.MaxPooling2D((2, 2)),\n",
    "    layers.Conv2D(64, (3, 3), activation='linear'),\n",
    "    layers.MaxPooling2D((2, 2)),\n",
    "    layers.Flatten(),\n",
    "    layers.Dropout(0.5),\n",
    "    layers.Dense(128, activation='linear'),\n",
    "    layers.Dense(num_classes, activation='softmax')\n",
    "])"
   ]
  },
  {
   "cell_type": "code",
   "execution_count": null,
   "metadata": {
    "execution": {
     "iopub.execute_input": "2023-12-07T19:22:59.665062Z",
     "iopub.status.busy": "2023-12-07T19:22:59.664961Z",
     "iopub.status.idle": "2023-12-07T19:22:59.671271Z",
     "shell.execute_reply": "2023-12-07T19:22:59.671047Z"
    },
    "id": "lDl_NwqgyHFN"
   },
   "outputs": [],
   "source": [
    "# View model summary\n",
    "model.summary()"
   ]
  },
  {
   "cell_type": "code",
   "execution_count": null,
   "metadata": {
    "id": "u-uJVVzqLMWg"
   },
   "outputs": [],
   "source": [
    "# Specify training choices (optimizer, loss function, metrics)\n",
    "model.compile(\n",
    "    optimizer='rmsprop',  # Optimizer\n",
    "    # Loss function to minimize\n",
    "    loss='SparseCategoricalCrossentropy',\n",
    "    # List of metrics to monitor\n",
    "    metrics=['accuracy'],\n",
    ")"
   ]
  },
  {
   "cell_type": "code",
   "execution_count": null,
   "metadata": {
    "id": "XWq9bzVZSt0h"
   },
   "outputs": [],
   "source": [
    "# Train the model\n",
    "# set batch_size = 128, epochs = 10\n",
    "training = model.fit(Xtrain, ytrain, batch_size=128, epochs=10)"
   ]
  },
  {
   "cell_type": "code",
   "execution_count": null,
   "metadata": {
    "id": "HniBDxKaUHms"
   },
   "outputs": [],
   "source": [
    "# View the training history\n",
    "training.history"
   ]
  },
  {
   "cell_type": "code",
   "execution_count": null,
   "metadata": {
    "id": "Sa7RLU8_UP5N"
   },
   "outputs": [],
   "source": [
    "# Evaluate the trained model on the testing data\n",
    "score = model.evaluate(Xtest, ytest, verbose=0)\n",
    "print(\"Test loss:\", score[0])\n",
    "print(\"Test accuracy:\", score[1])"
   ]
  },
  {
   "cell_type": "code",
   "execution_count": null,
   "metadata": {},
   "outputs": [],
   "source": [
    "# Respecify training choices (optimizer, loss function, metrics)\n",
    "model.compile(\n",
    "    optimizer='adam',  # Optimizer\n",
    "    # Loss function to minimize\n",
    "    loss='SparseCategoricalCrossentropy',\n",
    "    # List of metrics to monitor\n",
    "    metrics=['accuracy'],\n",
    ")"
   ]
  },
  {
   "cell_type": "code",
   "execution_count": null,
   "metadata": {},
   "outputs": [],
   "source": [
    "# Train the model\n",
    "# set batch_size = 128, epochs = 10\n",
    "training = model.fit(Xtrain, ytrain, batch_size=128, epochs=10)"
   ]
  },
  {
   "cell_type": "code",
   "execution_count": null,
   "metadata": {},
   "outputs": [],
   "source": [
    "# Evaluate the trained model on the testing data\n",
    "score = model.evaluate(Xtest, ytest, verbose=0)\n",
    "print(\"Test loss:\", score[0])\n",
    "print(\"Test accuracy:\", score[1])"
   ]
  }
 ],
 "metadata": {
  "colab": {
   "provenance": []
  },
  "kernelspec": {
   "display_name": "base",
   "language": "python",
   "name": "python3"
  },
  "language_info": {
   "codemirror_mode": {
    "name": "ipython",
    "version": 3
   },
   "file_extension": ".py",
   "mimetype": "text/x-python",
   "name": "python",
   "nbconvert_exporter": "python",
   "pygments_lexer": "ipython3",
   "version": "3.11.7"
  }
 },
 "nbformat": 4,
 "nbformat_minor": 0
}
